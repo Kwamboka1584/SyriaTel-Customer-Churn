{
 "cells": [
  {
   "cell_type": "code",
   "execution_count": null,
   "id": "80d1b6ae",
   "metadata": {},
   "outputs": [],
   "source": []
  }
 ],
 "metadata": {
  "language_info": {
   "name": "python"
  }
 },
 "nbformat": 4,
 "nbformat_minor": 5
}
